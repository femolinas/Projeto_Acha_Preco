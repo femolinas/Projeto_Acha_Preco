{
  "nbformat": 4,
  "nbformat_minor": 0,
  "metadata": {
    "colab": {
      "provenance": [],
      "authorship_tag": "ABX9TyNuYYzhQmxYAmf9JGrXn9AS",
      "include_colab_link": true
    },
    "kernelspec": {
      "name": "python3",
      "display_name": "Python 3"
    },
    "language_info": {
      "name": "python"
    }
  },
  "cells": [
    {
      "cell_type": "markdown",
      "metadata": {
        "id": "view-in-github",
        "colab_type": "text"
      },
      "source": [
        "<a href=\"https://colab.research.google.com/github/femolinas/Projeto_Acha_Preco/blob/main/Projeto_Acha_Preco_pynb.ipynb\" target=\"_parent\"><img src=\"https://colab.research.google.com/assets/colab-badge.svg\" alt=\"Open In Colab\"/></a>"
      ]
    },
    {
      "cell_type": "markdown",
      "source": [
        "# **Bora Voar? Acha o Preço!**"
      ],
      "metadata": {
        "id": "nU3ux23EtnQG"
      }
    },
    {
      "cell_type": "markdown",
      "source": [
        "A primeira instrução realiza as devidas instalações e importações ao projeto."
      ],
      "metadata": {
        "id": "RZoUKM-Xt1lv"
      }
    },
    {
      "cell_type": "code",
      "source": [
        "#Instala software development kit da Google /\n",
        "!pip install -q -U google-generativeai #instala na shell via pip no modo silencioso (-q) e na versão mais recente (-U) a biblioteca:  google-generativeai"
      ],
      "metadata": {
        "id": "fbsv9b6fgd2W"
      },
      "execution_count": 48,
      "outputs": []
    },
    {
      "cell_type": "code",
      "source": [
        "import google.generativeai as genai # Importa/ Carrega a biblioteca da IA Gemini da Google\n",
        "import pandas as pd\n",
        "import re\n",
        "import textwrap   # Importa biblioteca de formato de texto\n",
        "from IPython.display import display\n",
        "from IPython.display import Markdown\n",
        "from google.colab import userdata"
      ],
      "metadata": {
        "id": "65zEXAQUgfqO"
      },
      "execution_count": 49,
      "outputs": []
    },
    {
      "cell_type": "markdown",
      "source": [
        "Configuração da API Key do google AI Studio (Gemini) e dos parâmetros necessários."
      ],
      "metadata": {
        "id": "e-vRudituBEO"
      }
    },
    {
      "cell_type": "code",
      "source": [
        "GOOGLE_API_KEY=userdata.get(\"Secret_Key\")\n",
        "genai.configure(api_key=GOOGLE_API_KEY) #Configuração da chave de API informada"
      ],
      "metadata": {
        "id": "NEPTKQj-gkGK"
      },
      "execution_count": 50,
      "outputs": []
    },
    {
      "cell_type": "code",
      "source": [
        "# Set up the model\n",
        "generation_config = {\n",
        "  \"temperature\": 0.9,\n",
        "  \"top_p\": 1,\n",
        "  \"top_k\": 0,\n",
        "  \"max_output_tokens\": 2048,\n",
        "}"
      ],
      "metadata": {
        "id": "Db1L9TnygpU2"
      },
      "execution_count": 51,
      "outputs": []
    },
    {
      "cell_type": "code",
      "source": [
        "safety_settings = [\n",
        "  {\n",
        "    \"category\": \"HARM_CATEGORY_HARASSMENT\",\n",
        "    \"threshold\": \"BLOCK_MEDIUM_AND_ABOVE\"\n",
        "  },\n",
        "  {\n",
        "    \"category\": \"HARM_CATEGORY_HATE_SPEECH\",\n",
        "    \"threshold\": \"BLOCK_MEDIUM_AND_ABOVE\"\n",
        "  },\n",
        "  {\n",
        "    \"category\": \"HARM_CATEGORY_SEXUALLY_EXPLICIT\",\n",
        "    \"threshold\": \"BLOCK_MEDIUM_AND_ABOVE\"\n",
        "  },\n",
        "  {\n",
        "    \"category\": \"HARM_CATEGORY_DANGEROUS_CONTENT\",\n",
        "    \"threshold\": \"BLOCK_MEDIUM_AND_ABOVE\"\n",
        "  },\n",
        "]\n"
      ],
      "metadata": {
        "id": "KsUSvu_Rg2nf"
      },
      "execution_count": 52,
      "outputs": []
    },
    {
      "cell_type": "code",
      "source": [
        "model = genai.GenerativeModel(model_name=\"gemini-1.0-pro\",\n",
        "                              generation_config=generation_config,\n",
        "                              safety_settings=safety_settings)"
      ],
      "metadata": {
        "id": "ousNkAtXg7pE"
      },
      "execution_count": 53,
      "outputs": []
    },
    {
      "cell_type": "code",
      "source": [
        "chat = model.start_chat(history=[]) # guarda o histórico do chat"
      ],
      "metadata": {
        "id": "AM6KmPv8hMfm"
      },
      "execution_count": 54,
      "outputs": []
    },
    {
      "cell_type": "markdown",
      "source": [
        "Pede para o usuário a inserção dos dados necessários e já estabelece o pront para ser enviado a AI."
      ],
      "metadata": {
        "id": "E8lbMhDiuclM"
      }
    },
    {
      "cell_type": "code",
      "source": [
        "# O modelo passará a coletar os dados necessários com o usuário\n",
        "print(\"Bem vindo ao planejador de viagens mais acessíveis!\")\n",
        "\n",
        "print(\"\\nInforme os seguintes dados da sua viagem:\") # Saúda o usuário\n",
        "origem=input(\"\\nOrigem: \") # Usuário informa a Origem do vôo\n",
        "destino=input(\"Destino: \") #Usuário informa o destino do vôo\n",
        "data_ida=input(\"Data da Viagem (pode ser uma data exata ou aproximada, mas não esqueça de infomar o mês e o ano!): \") # Data da viagem\n",
        "retorno=int(input(\"Informe 1 caso seu vôo seja apenas de ida e 2 para ida e volta: \")) #Vôo apenas de Ida ou Ida e volta\n",
        "\n",
        "while retorno!=1 and retorno!=2: # Caso haja digitação errada pelo usuário\n",
        "        retorno=int(input(\"\\n Desculpe, não entendi,poderia repetir? Informe 1 caso seu vôo seja apenas de ida e 2 para ida e volta: \"))\n",
        "\n",
        "if retorno==2: #Ou seja, prompt para o caso de passagem de ida e volta\n",
        "        prompt_part = \"Imagine que você é um passageiro e quer procurar passagens aéreas mais baratas, pesquise o site Google Flights e liste em formato de tabela os dados: data da viagem de ida - horário do vôo de ida - número do vôo de ida - Quantidade de conexões de ida - horário das conexões de ida -  quantidade de bagagens - companhia aerea da ida- data de retorno - horário de retorno- numero de voo de volta - conexões de volta- horario das conexões de volta - quantidade de bagagens de volta- companhia aérea da volta - preço total de uma viagem\"\n",
        "        data_retorno=input(\"Data do retorno (pode ser uma data exata ou aproximada): \") # Data da viagem\n",
        "        novo_prompt = f\"{prompt_part} de {origem} para {destino} em {data_ida} e retorno em {data_retorno}. O seu resultado deve estar disponível em uma tabela de 15 colunas \"\n",
        "else: #Ou seja, prompt para o caso de passagem de ida apenas\n",
        "        prompt_part = \"Imagine que você é um passageiro e quer procurar passagens aéreas mais baratas, pesquise o site Google Flights e liste em formato de tabela os dados: data da viagem - horário do vôo - número do vôo - Quantidade de conexões - horário das conexões -  quantidade de bagagens - companhia aérea- preço total de uma viagem em uma única tabela\"\n",
        "        novo_prompt = f\"{prompt_part} de {origem} para {destino} em {data_ida}\""
      ],
      "metadata": {
        "id": "5gKamXk1h8xN",
        "colab": {
          "base_uri": "https://localhost:8080/"
        },
        "outputId": "af3203da-6b58-4a05-bebe-946be9ba3171"
      },
      "execution_count": 56,
      "outputs": [
        {
          "name": "stdout",
          "output_type": "stream",
          "text": [
            "Bem vindo ao planejador de viagens mais acessíveis!\n",
            "\n",
            "Informe os seguintes dados da sua viagem:\n",
            "\n",
            "Origem: São Paulo\n",
            "Destino: Lisboa\n",
            "Data da Viagem (pode ser uma data exata ou aproximada, mas não esqueça de infomar o mês e o ano!): novembro de 2024\n",
            "Informe 1 caso seu vôo seja apenas de ida e 2 para ida e volta: 22\n",
            "\n",
            " Desculpe, não entendi,poderia repetir? Informe 1 caso seu vôo seja apenas de ida e 2 para ida e volta: 11\n",
            "\n",
            " Desculpe, não entendi,poderia repetir? Informe 1 caso seu vôo seja apenas de ida e 2 para ida e volta: 10000\n",
            "\n",
            " Desculpe, não entendi,poderia repetir? Informe 1 caso seu vôo seja apenas de ida e 2 para ida e volta: 2\n",
            "Data do retorno (pode ser uma data exata ou aproximada): dezembro de 2024\n"
          ]
        }
      ]
    },
    {
      "cell_type": "markdown",
      "source": [
        "A IA sempre coloca marcadores separando o Cabeçalho e em eventuais testes, esses marcadores geraram erro por estarem em quantidade superior ao número de colunas, portanto o código os une para mais adiante serem removidos"
      ],
      "metadata": {
        "id": "86GWvmNzwgTj"
      }
    },
    {
      "cell_type": "code",
      "source": [
        "novo_prompt2=str(novo_prompt)\n",
        "response = chat.send_message(novo_prompt2)\n",
        "texto=response.text\n",
        "texto=re.sub(r'\\|[-]+\\|', '', texto)"
      ],
      "metadata": {
        "id": "UQoD59lFjrCZ"
      },
      "execution_count": 57,
      "outputs": []
    },
    {
      "cell_type": "markdown",
      "source": [
        "Manipulação dos dados para se gerar um data_frame, como em cada teste realizado ocorreram pequenas variações no nome gerado pela IA para as colunas, elas passaram a ser fixadas com base na ordem solicitada para o retorno (prompt)"
      ],
      "metadata": {
        "id": "U1HMCxniw6B9"
      }
    },
    {
      "cell_type": "code",
      "source": [
        "# Extrai as linhas da resposta\n",
        "linhas = texto.strip().split(\"\\n\")\n",
        "\n",
        "# Com base na nomenclatura do campo esperado, busca a linha em que começa o cabeçalho\n",
        "indice1 = None\n",
        "for i, linha in enumerate(linhas):\n",
        "    if \"| \" in linha:\n",
        "        indice1 = i\n",
        "        break\n",
        "\n",
        "\n",
        "# Extrai o cabeçalho\n",
        "cabecalho = [header.strip() for header in linhas[i].split(\"|\") if header.strip()]\n",
        "\n",
        "\n",
        "# Extraindo os dados\n",
        "dados = []\n",
        "for linha in linhas[(i+1):]:\n",
        "    colunas = [data.strip() for data in linha.split(\"|\") if data.strip()]\n",
        "    dados.append(colunas)\n",
        "\n",
        "# Criando o DataFrame\n",
        "df = pd.DataFrame(dados, columns=cabecalho)\n",
        "\n",
        "#Exibe o título\n",
        "texto_formatado = \"<h1><b>Seguem os preços das menores passagens</b></h1>\"\n",
        "display(Markdown(texto_formatado))\n",
        "print(\"\\n\")\n",
        "\n",
        "if retorno==1: # Garante que o Cabeçalho sempre será o mesmo para viagens de ida\n",
        "   df.columns = [\"data_da_viagem\",\"horario_do_voo\", \"número_vôo\", \"conexoes\", \"horario_conexoes\", \"quantidade_bagagens\", \"companhia_aerea\",\"preco\"]\n",
        "elif retorno==2: # Garante que o Cabeçalho sempre será o mesmo para viagens de ida e volta\n",
        "   df.columns = [\"data_da_viagem\",\"horario_do_voo_ida\", \"número_vôo_ida\", \"conexoes_ida\", \"horario_conexoes_ida\", \"bagagem_ida\",\"companhia_aerea_ida\", \"data_retorno\",\"horario_retorno\",\"numero_voo_volta\",\"conexoes_volta\",\"horario_conexoes_volta\",\"bagagem_volta\",\"companhia_aerea\",\"preco\"]\n",
        "\n",
        "# Exibindo o DataFrame como uma tabela\n",
        "df = df.dropna(subset=[\"preco\"]) #limpa os dados referentes a comentários e que por algum motivo estejam sem o preço\n",
        "df = df[df[\"data_da_viagem\"] != '---'] #limpa a divisória \"---\"\n",
        "\n",
        "df #exibe o dataframe\n"
      ],
      "metadata": {
        "id": "conkgDhYvcDb",
        "colab": {
          "base_uri": "https://localhost:8080/",
          "height": 405
        },
        "outputId": "800d6516-6d8f-49e3-df62-4f537d4a4cdf"
      },
      "execution_count": 58,
      "outputs": [
        {
          "output_type": "display_data",
          "data": {
            "text/plain": [
              "<IPython.core.display.Markdown object>"
            ],
            "text/markdown": "<h1><b>Seguem os preços das menores passagens</b></h1>"
          },
          "metadata": {}
        },
        {
          "output_type": "stream",
          "name": "stdout",
          "text": [
            "\n",
            "\n"
          ]
        },
        {
          "output_type": "execute_result",
          "data": {
            "text/plain": [
              "  data_da_viagem horario_do_voo_ida número_vôo_ida conexoes_ida  \\\n",
              "1     01/11/2024              08:00     LATAM 8705            1   \n",
              "2     03/11/2024              10:00      Azul 2514            0   \n",
              "3     05/11/2024              12:00       Gol 4521            0   \n",
              "4     07/11/2024              14:00     LATAM 8707            0   \n",
              "5     09/11/2024              16:00      Azul 2515            1   \n",
              "\n",
              "     horario_conexoes_ida bagagem_ida companhia_aerea_ida data_retorno  \\\n",
              "1  14:00 (Guarulhos, GRU)           1               LATAM   06/12/2024   \n",
              "2                       -           1                Azul   04/12/2024   \n",
              "3                       -           1                 Gol   07/12/2024   \n",
              "4                       -           1               LATAM   09/12/2024   \n",
              "5  14:00 (Guarulhos, GRU)           1                Azul   11/12/2024   \n",
              "\n",
              "  horario_retorno numero_voo_volta conexoes_volta  horario_conexoes_volta  \\\n",
              "1           16:00          TAP 258              1     20:00 (Lisboa, LIS)   \n",
              "2           18:00          TAP 260              1  22:00 (Guarulhos, GRU)   \n",
              "3           14:00       LATAM 8706              1  18:00 (Guarulhos, GRU)   \n",
              "4           16:00          TAP 259              0                       -   \n",
              "5           14:00       LATAM 8708              1     18:00 (Lisboa, LIS)   \n",
              "\n",
              "  bagagem_volta companhia_aerea        preco  \n",
              "1             1             TAP  R$ 3.500,00  \n",
              "2             1             TAP  R$ 3.600,00  \n",
              "3             1           LATAM  R$ 3.700,00  \n",
              "4             1             TAP  R$ 3.800,00  \n",
              "5             1           LATAM  R$ 3.900,00  "
            ],
            "text/html": [
              "\n",
              "  <div id=\"df-c7d9d352-590b-4ee8-a3e3-461d7276ddf3\" class=\"colab-df-container\">\n",
              "    <div>\n",
              "<style scoped>\n",
              "    .dataframe tbody tr th:only-of-type {\n",
              "        vertical-align: middle;\n",
              "    }\n",
              "\n",
              "    .dataframe tbody tr th {\n",
              "        vertical-align: top;\n",
              "    }\n",
              "\n",
              "    .dataframe thead th {\n",
              "        text-align: right;\n",
              "    }\n",
              "</style>\n",
              "<table border=\"1\" class=\"dataframe\">\n",
              "  <thead>\n",
              "    <tr style=\"text-align: right;\">\n",
              "      <th></th>\n",
              "      <th>data_da_viagem</th>\n",
              "      <th>horario_do_voo_ida</th>\n",
              "      <th>número_vôo_ida</th>\n",
              "      <th>conexoes_ida</th>\n",
              "      <th>horario_conexoes_ida</th>\n",
              "      <th>bagagem_ida</th>\n",
              "      <th>companhia_aerea_ida</th>\n",
              "      <th>data_retorno</th>\n",
              "      <th>horario_retorno</th>\n",
              "      <th>numero_voo_volta</th>\n",
              "      <th>conexoes_volta</th>\n",
              "      <th>horario_conexoes_volta</th>\n",
              "      <th>bagagem_volta</th>\n",
              "      <th>companhia_aerea</th>\n",
              "      <th>preco</th>\n",
              "    </tr>\n",
              "  </thead>\n",
              "  <tbody>\n",
              "    <tr>\n",
              "      <th>1</th>\n",
              "      <td>01/11/2024</td>\n",
              "      <td>08:00</td>\n",
              "      <td>LATAM 8705</td>\n",
              "      <td>1</td>\n",
              "      <td>14:00 (Guarulhos, GRU)</td>\n",
              "      <td>1</td>\n",
              "      <td>LATAM</td>\n",
              "      <td>06/12/2024</td>\n",
              "      <td>16:00</td>\n",
              "      <td>TAP 258</td>\n",
              "      <td>1</td>\n",
              "      <td>20:00 (Lisboa, LIS)</td>\n",
              "      <td>1</td>\n",
              "      <td>TAP</td>\n",
              "      <td>R$ 3.500,00</td>\n",
              "    </tr>\n",
              "    <tr>\n",
              "      <th>2</th>\n",
              "      <td>03/11/2024</td>\n",
              "      <td>10:00</td>\n",
              "      <td>Azul 2514</td>\n",
              "      <td>0</td>\n",
              "      <td>-</td>\n",
              "      <td>1</td>\n",
              "      <td>Azul</td>\n",
              "      <td>04/12/2024</td>\n",
              "      <td>18:00</td>\n",
              "      <td>TAP 260</td>\n",
              "      <td>1</td>\n",
              "      <td>22:00 (Guarulhos, GRU)</td>\n",
              "      <td>1</td>\n",
              "      <td>TAP</td>\n",
              "      <td>R$ 3.600,00</td>\n",
              "    </tr>\n",
              "    <tr>\n",
              "      <th>3</th>\n",
              "      <td>05/11/2024</td>\n",
              "      <td>12:00</td>\n",
              "      <td>Gol 4521</td>\n",
              "      <td>0</td>\n",
              "      <td>-</td>\n",
              "      <td>1</td>\n",
              "      <td>Gol</td>\n",
              "      <td>07/12/2024</td>\n",
              "      <td>14:00</td>\n",
              "      <td>LATAM 8706</td>\n",
              "      <td>1</td>\n",
              "      <td>18:00 (Guarulhos, GRU)</td>\n",
              "      <td>1</td>\n",
              "      <td>LATAM</td>\n",
              "      <td>R$ 3.700,00</td>\n",
              "    </tr>\n",
              "    <tr>\n",
              "      <th>4</th>\n",
              "      <td>07/11/2024</td>\n",
              "      <td>14:00</td>\n",
              "      <td>LATAM 8707</td>\n",
              "      <td>0</td>\n",
              "      <td>-</td>\n",
              "      <td>1</td>\n",
              "      <td>LATAM</td>\n",
              "      <td>09/12/2024</td>\n",
              "      <td>16:00</td>\n",
              "      <td>TAP 259</td>\n",
              "      <td>0</td>\n",
              "      <td>-</td>\n",
              "      <td>1</td>\n",
              "      <td>TAP</td>\n",
              "      <td>R$ 3.800,00</td>\n",
              "    </tr>\n",
              "    <tr>\n",
              "      <th>5</th>\n",
              "      <td>09/11/2024</td>\n",
              "      <td>16:00</td>\n",
              "      <td>Azul 2515</td>\n",
              "      <td>1</td>\n",
              "      <td>14:00 (Guarulhos, GRU)</td>\n",
              "      <td>1</td>\n",
              "      <td>Azul</td>\n",
              "      <td>11/12/2024</td>\n",
              "      <td>14:00</td>\n",
              "      <td>LATAM 8708</td>\n",
              "      <td>1</td>\n",
              "      <td>18:00 (Lisboa, LIS)</td>\n",
              "      <td>1</td>\n",
              "      <td>LATAM</td>\n",
              "      <td>R$ 3.900,00</td>\n",
              "    </tr>\n",
              "  </tbody>\n",
              "</table>\n",
              "</div>\n",
              "    <div class=\"colab-df-buttons\">\n",
              "\n",
              "  <div class=\"colab-df-container\">\n",
              "    <button class=\"colab-df-convert\" onclick=\"convertToInteractive('df-c7d9d352-590b-4ee8-a3e3-461d7276ddf3')\"\n",
              "            title=\"Convert this dataframe to an interactive table.\"\n",
              "            style=\"display:none;\">\n",
              "\n",
              "  <svg xmlns=\"http://www.w3.org/2000/svg\" height=\"24px\" viewBox=\"0 -960 960 960\">\n",
              "    <path d=\"M120-120v-720h720v720H120Zm60-500h600v-160H180v160Zm220 220h160v-160H400v160Zm0 220h160v-160H400v160ZM180-400h160v-160H180v160Zm440 0h160v-160H620v160ZM180-180h160v-160H180v160Zm440 0h160v-160H620v160Z\"/>\n",
              "  </svg>\n",
              "    </button>\n",
              "\n",
              "  <style>\n",
              "    .colab-df-container {\n",
              "      display:flex;\n",
              "      gap: 12px;\n",
              "    }\n",
              "\n",
              "    .colab-df-convert {\n",
              "      background-color: #E8F0FE;\n",
              "      border: none;\n",
              "      border-radius: 50%;\n",
              "      cursor: pointer;\n",
              "      display: none;\n",
              "      fill: #1967D2;\n",
              "      height: 32px;\n",
              "      padding: 0 0 0 0;\n",
              "      width: 32px;\n",
              "    }\n",
              "\n",
              "    .colab-df-convert:hover {\n",
              "      background-color: #E2EBFA;\n",
              "      box-shadow: 0px 1px 2px rgba(60, 64, 67, 0.3), 0px 1px 3px 1px rgba(60, 64, 67, 0.15);\n",
              "      fill: #174EA6;\n",
              "    }\n",
              "\n",
              "    .colab-df-buttons div {\n",
              "      margin-bottom: 4px;\n",
              "    }\n",
              "\n",
              "    [theme=dark] .colab-df-convert {\n",
              "      background-color: #3B4455;\n",
              "      fill: #D2E3FC;\n",
              "    }\n",
              "\n",
              "    [theme=dark] .colab-df-convert:hover {\n",
              "      background-color: #434B5C;\n",
              "      box-shadow: 0px 1px 3px 1px rgba(0, 0, 0, 0.15);\n",
              "      filter: drop-shadow(0px 1px 2px rgba(0, 0, 0, 0.3));\n",
              "      fill: #FFFFFF;\n",
              "    }\n",
              "  </style>\n",
              "\n",
              "    <script>\n",
              "      const buttonEl =\n",
              "        document.querySelector('#df-c7d9d352-590b-4ee8-a3e3-461d7276ddf3 button.colab-df-convert');\n",
              "      buttonEl.style.display =\n",
              "        google.colab.kernel.accessAllowed ? 'block' : 'none';\n",
              "\n",
              "      async function convertToInteractive(key) {\n",
              "        const element = document.querySelector('#df-c7d9d352-590b-4ee8-a3e3-461d7276ddf3');\n",
              "        const dataTable =\n",
              "          await google.colab.kernel.invokeFunction('convertToInteractive',\n",
              "                                                    [key], {});\n",
              "        if (!dataTable) return;\n",
              "\n",
              "        const docLinkHtml = 'Like what you see? Visit the ' +\n",
              "          '<a target=\"_blank\" href=https://colab.research.google.com/notebooks/data_table.ipynb>data table notebook</a>'\n",
              "          + ' to learn more about interactive tables.';\n",
              "        element.innerHTML = '';\n",
              "        dataTable['output_type'] = 'display_data';\n",
              "        await google.colab.output.renderOutput(dataTable, element);\n",
              "        const docLink = document.createElement('div');\n",
              "        docLink.innerHTML = docLinkHtml;\n",
              "        element.appendChild(docLink);\n",
              "      }\n",
              "    </script>\n",
              "  </div>\n",
              "\n",
              "\n",
              "<div id=\"df-b210a14c-8fca-4fed-a9af-c5955d7d9e04\">\n",
              "  <button class=\"colab-df-quickchart\" onclick=\"quickchart('df-b210a14c-8fca-4fed-a9af-c5955d7d9e04')\"\n",
              "            title=\"Suggest charts\"\n",
              "            style=\"display:none;\">\n",
              "\n",
              "<svg xmlns=\"http://www.w3.org/2000/svg\" height=\"24px\"viewBox=\"0 0 24 24\"\n",
              "     width=\"24px\">\n",
              "    <g>\n",
              "        <path d=\"M19 3H5c-1.1 0-2 .9-2 2v14c0 1.1.9 2 2 2h14c1.1 0 2-.9 2-2V5c0-1.1-.9-2-2-2zM9 17H7v-7h2v7zm4 0h-2V7h2v10zm4 0h-2v-4h2v4z\"/>\n",
              "    </g>\n",
              "</svg>\n",
              "  </button>\n",
              "\n",
              "<style>\n",
              "  .colab-df-quickchart {\n",
              "      --bg-color: #E8F0FE;\n",
              "      --fill-color: #1967D2;\n",
              "      --hover-bg-color: #E2EBFA;\n",
              "      --hover-fill-color: #174EA6;\n",
              "      --disabled-fill-color: #AAA;\n",
              "      --disabled-bg-color: #DDD;\n",
              "  }\n",
              "\n",
              "  [theme=dark] .colab-df-quickchart {\n",
              "      --bg-color: #3B4455;\n",
              "      --fill-color: #D2E3FC;\n",
              "      --hover-bg-color: #434B5C;\n",
              "      --hover-fill-color: #FFFFFF;\n",
              "      --disabled-bg-color: #3B4455;\n",
              "      --disabled-fill-color: #666;\n",
              "  }\n",
              "\n",
              "  .colab-df-quickchart {\n",
              "    background-color: var(--bg-color);\n",
              "    border: none;\n",
              "    border-radius: 50%;\n",
              "    cursor: pointer;\n",
              "    display: none;\n",
              "    fill: var(--fill-color);\n",
              "    height: 32px;\n",
              "    padding: 0;\n",
              "    width: 32px;\n",
              "  }\n",
              "\n",
              "  .colab-df-quickchart:hover {\n",
              "    background-color: var(--hover-bg-color);\n",
              "    box-shadow: 0 1px 2px rgba(60, 64, 67, 0.3), 0 1px 3px 1px rgba(60, 64, 67, 0.15);\n",
              "    fill: var(--button-hover-fill-color);\n",
              "  }\n",
              "\n",
              "  .colab-df-quickchart-complete:disabled,\n",
              "  .colab-df-quickchart-complete:disabled:hover {\n",
              "    background-color: var(--disabled-bg-color);\n",
              "    fill: var(--disabled-fill-color);\n",
              "    box-shadow: none;\n",
              "  }\n",
              "\n",
              "  .colab-df-spinner {\n",
              "    border: 2px solid var(--fill-color);\n",
              "    border-color: transparent;\n",
              "    border-bottom-color: var(--fill-color);\n",
              "    animation:\n",
              "      spin 1s steps(1) infinite;\n",
              "  }\n",
              "\n",
              "  @keyframes spin {\n",
              "    0% {\n",
              "      border-color: transparent;\n",
              "      border-bottom-color: var(--fill-color);\n",
              "      border-left-color: var(--fill-color);\n",
              "    }\n",
              "    20% {\n",
              "      border-color: transparent;\n",
              "      border-left-color: var(--fill-color);\n",
              "      border-top-color: var(--fill-color);\n",
              "    }\n",
              "    30% {\n",
              "      border-color: transparent;\n",
              "      border-left-color: var(--fill-color);\n",
              "      border-top-color: var(--fill-color);\n",
              "      border-right-color: var(--fill-color);\n",
              "    }\n",
              "    40% {\n",
              "      border-color: transparent;\n",
              "      border-right-color: var(--fill-color);\n",
              "      border-top-color: var(--fill-color);\n",
              "    }\n",
              "    60% {\n",
              "      border-color: transparent;\n",
              "      border-right-color: var(--fill-color);\n",
              "    }\n",
              "    80% {\n",
              "      border-color: transparent;\n",
              "      border-right-color: var(--fill-color);\n",
              "      border-bottom-color: var(--fill-color);\n",
              "    }\n",
              "    90% {\n",
              "      border-color: transparent;\n",
              "      border-bottom-color: var(--fill-color);\n",
              "    }\n",
              "  }\n",
              "</style>\n",
              "\n",
              "  <script>\n",
              "    async function quickchart(key) {\n",
              "      const quickchartButtonEl =\n",
              "        document.querySelector('#' + key + ' button');\n",
              "      quickchartButtonEl.disabled = true;  // To prevent multiple clicks.\n",
              "      quickchartButtonEl.classList.add('colab-df-spinner');\n",
              "      try {\n",
              "        const charts = await google.colab.kernel.invokeFunction(\n",
              "            'suggestCharts', [key], {});\n",
              "      } catch (error) {\n",
              "        console.error('Error during call to suggestCharts:', error);\n",
              "      }\n",
              "      quickchartButtonEl.classList.remove('colab-df-spinner');\n",
              "      quickchartButtonEl.classList.add('colab-df-quickchart-complete');\n",
              "    }\n",
              "    (() => {\n",
              "      let quickchartButtonEl =\n",
              "        document.querySelector('#df-b210a14c-8fca-4fed-a9af-c5955d7d9e04 button');\n",
              "      quickchartButtonEl.style.display =\n",
              "        google.colab.kernel.accessAllowed ? 'block' : 'none';\n",
              "    })();\n",
              "  </script>\n",
              "</div>\n",
              "\n",
              "  <div id=\"id_4ec0f5e5-6354-447f-81dd-b23bc6ae71ff\">\n",
              "    <style>\n",
              "      .colab-df-generate {\n",
              "        background-color: #E8F0FE;\n",
              "        border: none;\n",
              "        border-radius: 50%;\n",
              "        cursor: pointer;\n",
              "        display: none;\n",
              "        fill: #1967D2;\n",
              "        height: 32px;\n",
              "        padding: 0 0 0 0;\n",
              "        width: 32px;\n",
              "      }\n",
              "\n",
              "      .colab-df-generate:hover {\n",
              "        background-color: #E2EBFA;\n",
              "        box-shadow: 0px 1px 2px rgba(60, 64, 67, 0.3), 0px 1px 3px 1px rgba(60, 64, 67, 0.15);\n",
              "        fill: #174EA6;\n",
              "      }\n",
              "\n",
              "      [theme=dark] .colab-df-generate {\n",
              "        background-color: #3B4455;\n",
              "        fill: #D2E3FC;\n",
              "      }\n",
              "\n",
              "      [theme=dark] .colab-df-generate:hover {\n",
              "        background-color: #434B5C;\n",
              "        box-shadow: 0px 1px 3px 1px rgba(0, 0, 0, 0.15);\n",
              "        filter: drop-shadow(0px 1px 2px rgba(0, 0, 0, 0.3));\n",
              "        fill: #FFFFFF;\n",
              "      }\n",
              "    </style>\n",
              "    <button class=\"colab-df-generate\" onclick=\"generateWithVariable('df')\"\n",
              "            title=\"Generate code using this dataframe.\"\n",
              "            style=\"display:none;\">\n",
              "\n",
              "  <svg xmlns=\"http://www.w3.org/2000/svg\" height=\"24px\"viewBox=\"0 0 24 24\"\n",
              "       width=\"24px\">\n",
              "    <path d=\"M7,19H8.4L18.45,9,17,7.55,7,17.6ZM5,21V16.75L18.45,3.32a2,2,0,0,1,2.83,0l1.4,1.43a1.91,1.91,0,0,1,.58,1.4,1.91,1.91,0,0,1-.58,1.4L9.25,21ZM18.45,9,17,7.55Zm-12,3A5.31,5.31,0,0,0,4.9,8.1,5.31,5.31,0,0,0,1,6.5,5.31,5.31,0,0,0,4.9,4.9,5.31,5.31,0,0,0,6.5,1,5.31,5.31,0,0,0,8.1,4.9,5.31,5.31,0,0,0,12,6.5,5.46,5.46,0,0,0,6.5,12Z\"/>\n",
              "  </svg>\n",
              "    </button>\n",
              "    <script>\n",
              "      (() => {\n",
              "      const buttonEl =\n",
              "        document.querySelector('#id_4ec0f5e5-6354-447f-81dd-b23bc6ae71ff button.colab-df-generate');\n",
              "      buttonEl.style.display =\n",
              "        google.colab.kernel.accessAllowed ? 'block' : 'none';\n",
              "\n",
              "      buttonEl.onclick = () => {\n",
              "        google.colab.notebook.generateWithVariable('df');\n",
              "      }\n",
              "      })();\n",
              "    </script>\n",
              "  </div>\n",
              "\n",
              "    </div>\n",
              "  </div>\n"
            ],
            "application/vnd.google.colaboratory.intrinsic+json": {
              "type": "dataframe",
              "variable_name": "df",
              "repr_error": "0"
            }
          },
          "metadata": {},
          "execution_count": 58
        }
      ]
    },
    {
      "cell_type": "markdown",
      "source": [
        "Detalha em texto o valor do menor preço e a companhia aérea que realiza o trajeto"
      ],
      "metadata": {
        "id": "XrUsDWQuxe6k"
      }
    },
    {
      "cell_type": "code",
      "source": [
        "df2 = df.copy()\n",
        "df2[\"valor_monetario\"] = df['preco'].str.replace(',', '.', regex=False).str.extract('(\\d+\\.?\\d*)').astype(float)\n",
        "index_min=df2[\"valor_monetario\"].idxmin()\n",
        "\n",
        "valor_minimo = df.loc[index_min,\"preco\"] #Encontra o menor valor da passagem:\n",
        "\n",
        "display(Markdown(\"<b>Menor Valor da Passagem: </b>\"))\n",
        "print(valor_minimo)\n",
        "\n",
        "if retorno==1:\n",
        "  display(Markdown(\"<b>Disponível pela companhia: </b>\"))\n",
        "  Companhia_aerea = df.loc[index_min,\"companhia_aerea\"] # Retorna a companhia com o menor valor\n",
        "  print(Companhia_aerea)\n",
        "elif retorno==2:\n",
        "  companhia_aerea_ida = df.loc[index_min,\"companhia_aerea_ida\"] # Retorna a companhia  de ida para o menor valor total\n",
        "  companhia_aerea_retorno = df.loc[index_min,\"companhia_aerea\"] # Retorna a companhia de volta para o menor valor total\n",
        "  display(Markdown(\"<b>Ida disponível pela companhia: </b>\"))\n",
        "  print(companhia_aerea_ida)\n",
        "  display(Markdown(\"<b>Retorno disponível pela companhia: </b>\"))\n",
        "  print(companhia_aerea_retorno)"
      ],
      "metadata": {
        "id": "0Nkwk-ckNGsS",
        "colab": {
          "base_uri": "https://localhost:8080/",
          "height": 157
        },
        "outputId": "4e8a87d8-a5f4-43da-d86d-bc67970ade88"
      },
      "execution_count": 59,
      "outputs": [
        {
          "output_type": "display_data",
          "data": {
            "text/plain": [
              "<IPython.core.display.Markdown object>"
            ],
            "text/markdown": "<b>Menor Valor da Passagem: </b>"
          },
          "metadata": {}
        },
        {
          "output_type": "stream",
          "name": "stdout",
          "text": [
            "R$ 3.500,00\n"
          ]
        },
        {
          "output_type": "display_data",
          "data": {
            "text/plain": [
              "<IPython.core.display.Markdown object>"
            ],
            "text/markdown": "<b>Ida disponível pela companhia: </b>"
          },
          "metadata": {}
        },
        {
          "output_type": "stream",
          "name": "stdout",
          "text": [
            "LATAM\n"
          ]
        },
        {
          "output_type": "display_data",
          "data": {
            "text/plain": [
              "<IPython.core.display.Markdown object>"
            ],
            "text/markdown": "<b>Retorno disponível pela companhia: </b>"
          },
          "metadata": {}
        },
        {
          "output_type": "stream",
          "name": "stdout",
          "text": [
            "TAP\n"
          ]
        }
      ]
    },
    {
      "cell_type": "markdown",
      "source": [
        "O Nosso Projeto passa então com base nos dados inseridos a sugerir eventos culturais para o usuário"
      ],
      "metadata": {
        "id": "hq4qsce4xobZ"
      }
    },
    {
      "cell_type": "code",
      "source": [
        "#Exibe o título\n",
        "texto_formatado2 = f\"<h1><b>Enquanto estiver em {destino} seguem algumas sugestões: </b></h1>\"\n",
        "display(Markdown(texto_formatado2))\n",
        "print(\"\\n\")\n",
        "prompt = f\"imagine que você é um entusiasta por atividades culturais, descreva em tópicos algumas atividades e locais históricos a serem visitados em {destino}, não esqueça de sugerir pratos típicos. Não separe por dias (pode ser que não coincida com os planos do cliente)\"\n",
        "\n",
        "response2 = chat.send_message(str(prompt))\n",
        "\n",
        "display(Markdown(response2.text))\n",
        "\n",
        "\n"
      ],
      "metadata": {
        "id": "I8tu3Gcqfwl5",
        "colab": {
          "base_uri": "https://localhost:8080/",
          "height": 417
        },
        "outputId": "09614520-1446-401b-ef80-49ed9d020430"
      },
      "execution_count": 60,
      "outputs": [
        {
          "output_type": "display_data",
          "data": {
            "text/plain": [
              "<IPython.core.display.Markdown object>"
            ],
            "text/markdown": "<h1><b>Enquanto estiver em Lisboa seguem algumas sugestões: </b></h1>"
          },
          "metadata": {}
        },
        {
          "output_type": "stream",
          "name": "stdout",
          "text": [
            "\n",
            "\n"
          ]
        },
        {
          "output_type": "display_data",
          "data": {
            "text/plain": [
              "<IPython.core.display.Markdown object>"
            ],
            "text/markdown": "**Atividades Culturais e Locais Históricos em Lisboa:**\n\n* **Visitar o Castelo de São Jorge:** Explore a antiga fortaleza mourisca que oferece vistas panorâmicas da cidade.\n* **Passear pelo Alfama:** Percorra as ruas estreitas e íngremes do bairro mais antigo de Lisboa, conhecido por suas casas coloridas e fado ao vivo.\n* **Explorar a Baixa Pombalina:** Admire a arquitetura neoclássica do centro histórico reconstruído após o terremoto de 1755.\n* **Visitar o Mosteiro dos Jerónimos:** Maravilhe-se com a arquitetura manuelina deste Patrimônio Mundial da UNESCO, lar do túmulo de Vasco da Gama.\n* **Descobrir o Museu Nacional do Azulejo:** Aprenda sobre a história e a arte dos azulejos portugueses nesta coleção abrangente.\n* **Assistir a um espetáculo de fado:** Experimente a música tradicional portuguesa em um dos muitos locais de fado da cidade.\n* **Visitar o Museu Nacional de Arte Antiga:** Admire obras-primas da arte portuguesa e europeia, incluindo pinturas, esculturas e joias.\n* **Explorar o Palácio da Ajuda:** Visite a antiga residência real e seus belos jardins.\n* **Passear pelo Parque das Nações:** Descubra a área moderna construída para a Exposição Mundial de 1998, com museus, restaurantes e espaços verdes.\n\n**Pratos Típicos:**\n\n* **Bacalhau à Gomes de Sá:** Bacalhau salgado refogado com batatas, cebolas e ovos.\n* **Sardinhas Assadas:** Sardinhas grelhadas servidas com batatas cozidas ou salada.\n* **Caldo Verde:** Sopa tradicional feita com couve galega, batatas e chouriço.\n* **Pastéis de Nata:** Tortas de creme de ovo folhadas.\n* **Arroz de Marisco:** Arroz cozido com vários tipos de frutos do mar."
          },
          "metadata": {}
        }
      ]
    }
  ]
}