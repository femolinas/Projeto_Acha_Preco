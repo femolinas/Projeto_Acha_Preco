{
  "nbformat": 4,
  "nbformat_minor": 0,
  "metadata": {
    "colab": {
      "provenance": [],
      "authorship_tag": "ABX9TyMDYZ0nWVqIGT0pe1WR76U4",
      "include_colab_link": true
    },
    "kernelspec": {
      "name": "python3",
      "display_name": "Python 3"
    },
    "language_info": {
      "name": "python"
    }
  },
  "cells": [
    {
      "cell_type": "markdown",
      "metadata": {
        "id": "view-in-github",
        "colab_type": "text"
      },
      "source": [
        "<a href=\"https://colab.research.google.com/github/femolinas/Projeto_Acha_Preco/blob/main/Projeto_Acha_Preco_pynb.ipynb\" target=\"_parent\"><img src=\"https://colab.research.google.com/assets/colab-badge.svg\" alt=\"Open In Colab\"/></a>"
      ]
    },
    {
      "cell_type": "markdown",
      "source": [
        "# **Bora Voar? Acha o Preço!**"
      ],
      "metadata": {
        "id": "nU3ux23EtnQG"
      }
    },
    {
      "cell_type": "markdown",
      "source": [
        "A primeira instrução realiza as devidas instalações e importações ao projeto."
      ],
      "metadata": {
        "id": "RZoUKM-Xt1lv"
      }
    },
    {
      "cell_type": "code",
      "source": [
        "#Instala software development kit da Google /\n",
        "!pip install -q -U google-generativeai #instala na shell via pip no modo silencioso (-q) e na versão mais recente (-U) a biblioteca:  google-generativeai"
      ],
      "metadata": {
        "id": "fbsv9b6fgd2W"
      },
      "execution_count": 1,
      "outputs": []
    },
    {
      "cell_type": "code",
      "source": [
        "import google.generativeai as genai # Importa/ Carrega a biblioteca da IA Gemini da Google\n",
        "import pandas as pd\n",
        "import re\n",
        "import textwrap   # Importa biblioteca de formato de texto\n",
        "from IPython.display import display\n",
        "from IPython.display import Markdown\n",
        "from google.colab import userdata"
      ],
      "metadata": {
        "id": "65zEXAQUgfqO"
      },
      "execution_count": 2,
      "outputs": []
    },
    {
      "cell_type": "markdown",
      "source": [
        "Configuração da API Key do google AI Studio (Gemini) e dos parâmetros necessários."
      ],
      "metadata": {
        "id": "e-vRudituBEO"
      }
    },
    {
      "cell_type": "code",
      "source": [
        "GOOGLE_API_KEY=userdata.get(\"Secret_Key\")\n",
        "genai.configure(api_key=GOOGLE_API_KEY) #Configuração da chave de API informada"
      ],
      "metadata": {
        "id": "NEPTKQj-gkGK"
      },
      "execution_count": 3,
      "outputs": []
    },
    {
      "cell_type": "code",
      "source": [
        "# Set up the model\n",
        "generation_config = {\n",
        "  \"temperature\": 0.9,\n",
        "  \"top_p\": 1,\n",
        "  \"top_k\": 0,\n",
        "  \"max_output_tokens\": 2048,\n",
        "}"
      ],
      "metadata": {
        "id": "Db1L9TnygpU2"
      },
      "execution_count": 4,
      "outputs": []
    },
    {
      "cell_type": "code",
      "source": [
        "safety_settings = [\n",
        "  {\n",
        "    \"category\": \"HARM_CATEGORY_HARASSMENT\",\n",
        "    \"threshold\": \"BLOCK_MEDIUM_AND_ABOVE\"\n",
        "  },\n",
        "  {\n",
        "    \"category\": \"HARM_CATEGORY_HATE_SPEECH\",\n",
        "    \"threshold\": \"BLOCK_MEDIUM_AND_ABOVE\"\n",
        "  },\n",
        "  {\n",
        "    \"category\": \"HARM_CATEGORY_SEXUALLY_EXPLICIT\",\n",
        "    \"threshold\": \"BLOCK_MEDIUM_AND_ABOVE\"\n",
        "  },\n",
        "  {\n",
        "    \"category\": \"HARM_CATEGORY_DANGEROUS_CONTENT\",\n",
        "    \"threshold\": \"BLOCK_MEDIUM_AND_ABOVE\"\n",
        "  },\n",
        "]\n"
      ],
      "metadata": {
        "id": "KsUSvu_Rg2nf"
      },
      "execution_count": 5,
      "outputs": []
    },
    {
      "cell_type": "code",
      "source": [
        "model = genai.GenerativeModel(model_name=\"gemini-1.0-pro\",\n",
        "                              generation_config=generation_config,\n",
        "                              safety_settings=safety_settings)"
      ],
      "metadata": {
        "id": "ousNkAtXg7pE"
      },
      "execution_count": 6,
      "outputs": []
    },
    {
      "cell_type": "code",
      "source": [
        "chat = model.start_chat(history=[]) # guarda o histórico do chat"
      ],
      "metadata": {
        "id": "AM6KmPv8hMfm"
      },
      "execution_count": 7,
      "outputs": []
    },
    {
      "cell_type": "markdown",
      "source": [
        "Pede para o usuário a inserção dos dados necessários e já estabelece o pront para ser enviado a AI."
      ],
      "metadata": {
        "id": "E8lbMhDiuclM"
      }
    },
    {
      "cell_type": "code",
      "source": [
        "# O modelo passará a coletar os dados necessários com o usuário\n",
        "display(Markdown(\"# Bem vindo ao planejador de viagens mais acessíveis!\"))\n",
        "\n",
        "print(\"\\nInforme os seguintes dados da sua viagem:\") # Saúda o usuário\n",
        "origem=input(\"\\nOrigem: \") # Usuário informa a Origem do vôo\n",
        "destino=input(\"Destino: \") #Usuário informa o destino do vôo\n",
        "data_ida=input(\"Data da Viagem (pode ser uma data exata ou aproximada, mas não esqueça de infomar o ano!): \") # Data da viagem\n",
        "retorno=int(input(\"Informe 1 caso seu vôo seja apenas de ida e 2 para ida e volta: \")) #Vôo apenas de Ida ou Ida e volta\n",
        "\n",
        "while retorno!=1 and retorno!=2: # Caso haja digitação errada pelo usuário\n",
        "        retorno=int(input(\"\\n Desculpe, não entendi,poderia repetir? Informe 1 caso seu vôo seja apenas de ida e 2 para ida e volta: \"))\n",
        "\n",
        "if retorno==2: #Ou seja, prompt para o caso de passagem de ida e volta\n",
        "        prompt_part = \"Imagine que você é um passageiro e quer procurar passagens aéreas mais baratas, pesquise o site Google Flights e liste em formato de tabela os dados: data da viagem de ida - horário do vôo de ida - número do vôo de ida - Quantidade de conexões de ida - horário das conexões de ida -  quantidade de bagagens - companhia aerea da ida- data de retorno - horário de retorno- numero de voo de volta - conexões de volta- horario das conexões de volta - quantidade de bagagens de volta- companhia aérea da volta - preço total de uma viagem\"\n",
        "        data_retorno=input(\"Data do retorno (pode ser uma data exata ou aproximada): \") # Data da viagem\n",
        "        novo_prompt = f\"{prompt_part} de {origem} para {destino} em {data_ida} e retorno em {data_retorno}. O seu resultado deve estar disponível em uma tabela de 15 colunas \"\n",
        "else: #Ou seja, prompt para o caso de passagem de ida apenas\n",
        "        prompt_part = \"Imagine que você é um passageiro e quer procurar passagens aéreas mais baratas, pesquise o site Google Flights e liste em formato de tabela os dados: data da viagem - horário do vôo - número do vôo - Quantidade de conexões - horário das conexões -  quantidade de bagagens - companhia aérea- preço total de uma viagem em uma única tabela\"\n",
        "        novo_prompt = f\"{prompt_part} de {origem} para {destino} em {data_ida}\""
      ],
      "metadata": {
        "id": "5gKamXk1h8xN",
        "colab": {
          "base_uri": "https://localhost:8080/",
          "height": 283
        },
        "outputId": "30c0a95d-6e20-4399-a612-3b6ce53e78d0"
      },
      "execution_count": 10,
      "outputs": [
        {
          "output_type": "display_data",
          "data": {
            "text/plain": [
              "<IPython.core.display.Markdown object>"
            ],
            "text/markdown": "# Bem vindo ao planejador de viagens mais acessíveis!"
          },
          "metadata": {}
        },
        {
          "name": "stdout",
          "output_type": "stream",
          "text": [
            "\n",
            "Informe os seguintes dados da sua viagem:\n",
            "\n",
            "Origem: Vitória-ES\n",
            "Destino: Lisboa\n",
            "Data da Viagem (pode ser uma data exata ou aproximada, mas não esqueça de infomar o ano!): agosto de 2024\n",
            "Informe 1 caso seu vôo seja apenas de ida e 2 para ida e volta: 22\n",
            "\n",
            " Desculpe, não entendi,poderia repetir? Informe 1 caso seu vôo seja apenas de ida e 2 para ida e volta: 11\n",
            "\n",
            " Desculpe, não entendi,poderia repetir? Informe 1 caso seu vôo seja apenas de ida e 2 para ida e volta: 2\n",
            "Data do retorno (pode ser uma data exata ou aproximada): dezembro de 2024\n"
          ]
        }
      ]
    },
    {
      "cell_type": "markdown",
      "source": [
        "A IA sempre coloca marcadores separando o Cabeçalho e em eventuais testes, esses marcadores geraram erro por estarem em quantidade superior ao número de colunas, portanto o código os une para mais adiante serem removidos"
      ],
      "metadata": {
        "id": "86GWvmNzwgTj"
      }
    },
    {
      "cell_type": "code",
      "source": [
        "novo_prompt2=str(novo_prompt)\n",
        "response = chat.send_message(novo_prompt2)\n",
        "texto=response.text\n",
        "texto=re.sub(r'\\|[-]+\\|', '', texto)"
      ],
      "metadata": {
        "id": "UQoD59lFjrCZ"
      },
      "execution_count": 13,
      "outputs": []
    },
    {
      "cell_type": "markdown",
      "source": [
        "Manipulação dos dados para se gerar um data_frame, como em cada teste realizado ocorreram pequenas variações no nome gerado pela IA para as colunas, elas passaram a ser fixadas com base na ordem solicitada para o retorno (prompt)"
      ],
      "metadata": {
        "id": "U1HMCxniw6B9"
      }
    },
    {
      "cell_type": "code",
      "source": [
        "# Extrai as linhas da resposta\n",
        "linhas = texto.strip().split(\"\\n\")\n",
        "\n",
        "# Com base na nomenclatura do campo esperado, busca a linha em que começa o cabeçalho\n",
        "indice1 = None\n",
        "for i, linha in enumerate(linhas):\n",
        "    if \"| \" in linha:\n",
        "        indice1 = i\n",
        "        break\n",
        "\n",
        "\n",
        "# Extrai o cabeçalho\n",
        "cabecalho = [header.strip() for header in linhas[i].split(\"|\") if header.strip()]\n",
        "\n",
        "\n",
        "# Extraindo os dados\n",
        "dados = []\n",
        "for linha in linhas[(i+1):]:\n",
        "    colunas = [data.strip() for data in linha.split(\"|\") if data.strip()]\n",
        "    dados.append(colunas)\n",
        "\n",
        "# Criando o DataFrame\n",
        "df = pd.DataFrame(dados, columns=cabecalho)\n",
        "\n",
        "#Exibe o título\n",
        "texto_formatado = \"<h1><b>Seguem os preços das menores passagens</b></h1>\"\n",
        "display(Markdown(texto_formatado))\n",
        "print(\"\\n\")\n",
        "\n",
        "if retorno==1: # Garante que o Cabeçalho sempre será o mesmo para viagens de ida\n",
        "   df.columns = [\"data_da_viagem\",\"horario_do_voo\", \"número_vôo\", \"conexoes\", \"horario_conexoes\", \"quantidade_bagagens\", \"companhia_aerea\",\"preco\"]\n",
        "elif retorno==2: # Garante que o Cabeçalho sempre será o mesmo para viagens de ida e volta\n",
        "   df.columns = [\"data_da_viagem\",\"horario_do_voo_ida\", \"número_vôo_ida\", \"conexoes_ida\", \"horario_conexoes_ida\", \"bagagem_ida\",\"companhia_aerea_ida\", \"data_retorno\",\"horario_retorno\",\"numero_voo_volta\",\"conexoes_volta\",\"horario_conexoes_volta\",\"bagagem_volta\",\"companhia_aerea\",\"preco\"]\n",
        "\n",
        "# Exibindo o DataFrame como uma tabela\n",
        "df = df.dropna(subset=[\"preco\"]) #limpa os dados referentes a comentários e que por algum motivo estejam sem o preço\n",
        "df = df[df[\"data_da_viagem\"] != '---'] #limpa a divisória \"---\"\n",
        "\n",
        "df #exibe o dataframe\n"
      ],
      "metadata": {
        "id": "conkgDhYvcDb",
        "colab": {
          "base_uri": "https://localhost:8080/",
          "height": 649
        },
        "outputId": "83aa4467-d717-41ed-ef72-1e8199971dea"
      },
      "execution_count": 19,
      "outputs": [
        {
          "output_type": "display_data",
          "data": {
            "text/plain": [
              "<IPython.core.display.Markdown object>"
            ],
            "text/markdown": "<h1><b>Seguem os preços das menores passagens</b></h1>"
          },
          "metadata": {}
        },
        {
          "output_type": "stream",
          "name": "stdout",
          "text": [
            "\n",
            "\n"
          ]
        },
        {
          "output_type": "execute_result",
          "data": {
            "text/plain": [
              "   data_da_viagem horario_do_voo_ida número_vôo_ida conexoes_ida  \\\n",
              "1      15/08/2024              13:55         LH4622            1   \n",
              "2      16/08/2024              17:55          TP106            0   \n",
              "3      17/08/2024              11:55         AF4442            1   \n",
              "4      18/08/2024              18:55          BA539            0   \n",
              "5      19/08/2024              14:55          KL745            1   \n",
              "6      20/08/2024              10:55          AZ674            1   \n",
              "7      21/08/2024              16:55         UX1006            0   \n",
              "8      22/08/2024              12:55         IB3164            1   \n",
              "9      23/08/2024              18:55         LA2434            0   \n",
              "10     24/08/2024              14:55         JJ8784            1   \n",
              "\n",
              "   horario_conexoes_ida bagagem_ida companhia_aerea_ida data_retorno  \\\n",
              "1             18:35 GRU           1           Lufthansa   15/12/2024   \n",
              "2                     -           2                 TAP   16/12/2024   \n",
              "3             16:35 CDG           1          Air France   17/12/2024   \n",
              "4                     -           2     British Airways   18/12/2024   \n",
              "5             19:35 AMS           1                 KLM   19/12/2024   \n",
              "6             15:35 FCO           1         ITA Airways   20/12/2024   \n",
              "7                     -           2          Air Europa   21/12/2024   \n",
              "8             17:35 MAD           1              Iberia   22/12/2024   \n",
              "9                     -           2               LATAM   23/12/2024   \n",
              "10            19:35 GRU           1      Japan Airlines   24/12/2024   \n",
              "\n",
              "   horario_retorno numero_voo_volta conexoes_volta horario_conexoes_volta  \\\n",
              "1            14:55           LH4704              1              19:15 FRA   \n",
              "2            16:55            TP107              0                      -   \n",
              "3            13:55           AF4453              1              18:35 GRU   \n",
              "4            15:55            BA540              0                      -   \n",
              "5            12:55            KL746              1              17:35 GRU   \n",
              "6            11:55            AZ675              1              16:35 GRU   \n",
              "7            14:55           UX1007              0                      -   \n",
              "8            10:55           IB3165              1              15:35 GRU   \n",
              "9            16:55           LA2435              0                      -   \n",
              "10           12:55           JJ8785              1              17:35 AMS   \n",
              "\n",
              "   bagagem_volta  companhia_aerea     preco  \n",
              "1              1        Lufthansa  R$ 3.245  \n",
              "2              2              TAP  R$ 3.545  \n",
              "3              1       Air France  R$ 3.445  \n",
              "4              2  British Airways  R$ 3.645  \n",
              "5              1              KLM  R$ 3.345  \n",
              "6              1      ITA Airways  R$ 3.495  \n",
              "7              2       Air Europa  R$ 3.745  \n",
              "8              1           Iberia  R$ 3.395  \n",
              "9              2            LATAM  R$ 3.845  \n",
              "10             1   Japan Airlines  R$ 3.595  "
            ],
            "text/html": [
              "\n",
              "  <div id=\"df-0e230114-b160-4830-9345-1f3700eb0bd7\" class=\"colab-df-container\">\n",
              "    <div>\n",
              "<style scoped>\n",
              "    .dataframe tbody tr th:only-of-type {\n",
              "        vertical-align: middle;\n",
              "    }\n",
              "\n",
              "    .dataframe tbody tr th {\n",
              "        vertical-align: top;\n",
              "    }\n",
              "\n",
              "    .dataframe thead th {\n",
              "        text-align: right;\n",
              "    }\n",
              "</style>\n",
              "<table border=\"1\" class=\"dataframe\">\n",
              "  <thead>\n",
              "    <tr style=\"text-align: right;\">\n",
              "      <th></th>\n",
              "      <th>data_da_viagem</th>\n",
              "      <th>horario_do_voo_ida</th>\n",
              "      <th>número_vôo_ida</th>\n",
              "      <th>conexoes_ida</th>\n",
              "      <th>horario_conexoes_ida</th>\n",
              "      <th>bagagem_ida</th>\n",
              "      <th>companhia_aerea_ida</th>\n",
              "      <th>data_retorno</th>\n",
              "      <th>horario_retorno</th>\n",
              "      <th>numero_voo_volta</th>\n",
              "      <th>conexoes_volta</th>\n",
              "      <th>horario_conexoes_volta</th>\n",
              "      <th>bagagem_volta</th>\n",
              "      <th>companhia_aerea</th>\n",
              "      <th>preco</th>\n",
              "    </tr>\n",
              "  </thead>\n",
              "  <tbody>\n",
              "    <tr>\n",
              "      <th>1</th>\n",
              "      <td>15/08/2024</td>\n",
              "      <td>13:55</td>\n",
              "      <td>LH4622</td>\n",
              "      <td>1</td>\n",
              "      <td>18:35 GRU</td>\n",
              "      <td>1</td>\n",
              "      <td>Lufthansa</td>\n",
              "      <td>15/12/2024</td>\n",
              "      <td>14:55</td>\n",
              "      <td>LH4704</td>\n",
              "      <td>1</td>\n",
              "      <td>19:15 FRA</td>\n",
              "      <td>1</td>\n",
              "      <td>Lufthansa</td>\n",
              "      <td>R$ 3.245</td>\n",
              "    </tr>\n",
              "    <tr>\n",
              "      <th>2</th>\n",
              "      <td>16/08/2024</td>\n",
              "      <td>17:55</td>\n",
              "      <td>TP106</td>\n",
              "      <td>0</td>\n",
              "      <td>-</td>\n",
              "      <td>2</td>\n",
              "      <td>TAP</td>\n",
              "      <td>16/12/2024</td>\n",
              "      <td>16:55</td>\n",
              "      <td>TP107</td>\n",
              "      <td>0</td>\n",
              "      <td>-</td>\n",
              "      <td>2</td>\n",
              "      <td>TAP</td>\n",
              "      <td>R$ 3.545</td>\n",
              "    </tr>\n",
              "    <tr>\n",
              "      <th>3</th>\n",
              "      <td>17/08/2024</td>\n",
              "      <td>11:55</td>\n",
              "      <td>AF4442</td>\n",
              "      <td>1</td>\n",
              "      <td>16:35 CDG</td>\n",
              "      <td>1</td>\n",
              "      <td>Air France</td>\n",
              "      <td>17/12/2024</td>\n",
              "      <td>13:55</td>\n",
              "      <td>AF4453</td>\n",
              "      <td>1</td>\n",
              "      <td>18:35 GRU</td>\n",
              "      <td>1</td>\n",
              "      <td>Air France</td>\n",
              "      <td>R$ 3.445</td>\n",
              "    </tr>\n",
              "    <tr>\n",
              "      <th>4</th>\n",
              "      <td>18/08/2024</td>\n",
              "      <td>18:55</td>\n",
              "      <td>BA539</td>\n",
              "      <td>0</td>\n",
              "      <td>-</td>\n",
              "      <td>2</td>\n",
              "      <td>British Airways</td>\n",
              "      <td>18/12/2024</td>\n",
              "      <td>15:55</td>\n",
              "      <td>BA540</td>\n",
              "      <td>0</td>\n",
              "      <td>-</td>\n",
              "      <td>2</td>\n",
              "      <td>British Airways</td>\n",
              "      <td>R$ 3.645</td>\n",
              "    </tr>\n",
              "    <tr>\n",
              "      <th>5</th>\n",
              "      <td>19/08/2024</td>\n",
              "      <td>14:55</td>\n",
              "      <td>KL745</td>\n",
              "      <td>1</td>\n",
              "      <td>19:35 AMS</td>\n",
              "      <td>1</td>\n",
              "      <td>KLM</td>\n",
              "      <td>19/12/2024</td>\n",
              "      <td>12:55</td>\n",
              "      <td>KL746</td>\n",
              "      <td>1</td>\n",
              "      <td>17:35 GRU</td>\n",
              "      <td>1</td>\n",
              "      <td>KLM</td>\n",
              "      <td>R$ 3.345</td>\n",
              "    </tr>\n",
              "    <tr>\n",
              "      <th>6</th>\n",
              "      <td>20/08/2024</td>\n",
              "      <td>10:55</td>\n",
              "      <td>AZ674</td>\n",
              "      <td>1</td>\n",
              "      <td>15:35 FCO</td>\n",
              "      <td>1</td>\n",
              "      <td>ITA Airways</td>\n",
              "      <td>20/12/2024</td>\n",
              "      <td>11:55</td>\n",
              "      <td>AZ675</td>\n",
              "      <td>1</td>\n",
              "      <td>16:35 GRU</td>\n",
              "      <td>1</td>\n",
              "      <td>ITA Airways</td>\n",
              "      <td>R$ 3.495</td>\n",
              "    </tr>\n",
              "    <tr>\n",
              "      <th>7</th>\n",
              "      <td>21/08/2024</td>\n",
              "      <td>16:55</td>\n",
              "      <td>UX1006</td>\n",
              "      <td>0</td>\n",
              "      <td>-</td>\n",
              "      <td>2</td>\n",
              "      <td>Air Europa</td>\n",
              "      <td>21/12/2024</td>\n",
              "      <td>14:55</td>\n",
              "      <td>UX1007</td>\n",
              "      <td>0</td>\n",
              "      <td>-</td>\n",
              "      <td>2</td>\n",
              "      <td>Air Europa</td>\n",
              "      <td>R$ 3.745</td>\n",
              "    </tr>\n",
              "    <tr>\n",
              "      <th>8</th>\n",
              "      <td>22/08/2024</td>\n",
              "      <td>12:55</td>\n",
              "      <td>IB3164</td>\n",
              "      <td>1</td>\n",
              "      <td>17:35 MAD</td>\n",
              "      <td>1</td>\n",
              "      <td>Iberia</td>\n",
              "      <td>22/12/2024</td>\n",
              "      <td>10:55</td>\n",
              "      <td>IB3165</td>\n",
              "      <td>1</td>\n",
              "      <td>15:35 GRU</td>\n",
              "      <td>1</td>\n",
              "      <td>Iberia</td>\n",
              "      <td>R$ 3.395</td>\n",
              "    </tr>\n",
              "    <tr>\n",
              "      <th>9</th>\n",
              "      <td>23/08/2024</td>\n",
              "      <td>18:55</td>\n",
              "      <td>LA2434</td>\n",
              "      <td>0</td>\n",
              "      <td>-</td>\n",
              "      <td>2</td>\n",
              "      <td>LATAM</td>\n",
              "      <td>23/12/2024</td>\n",
              "      <td>16:55</td>\n",
              "      <td>LA2435</td>\n",
              "      <td>0</td>\n",
              "      <td>-</td>\n",
              "      <td>2</td>\n",
              "      <td>LATAM</td>\n",
              "      <td>R$ 3.845</td>\n",
              "    </tr>\n",
              "    <tr>\n",
              "      <th>10</th>\n",
              "      <td>24/08/2024</td>\n",
              "      <td>14:55</td>\n",
              "      <td>JJ8784</td>\n",
              "      <td>1</td>\n",
              "      <td>19:35 GRU</td>\n",
              "      <td>1</td>\n",
              "      <td>Japan Airlines</td>\n",
              "      <td>24/12/2024</td>\n",
              "      <td>12:55</td>\n",
              "      <td>JJ8785</td>\n",
              "      <td>1</td>\n",
              "      <td>17:35 AMS</td>\n",
              "      <td>1</td>\n",
              "      <td>Japan Airlines</td>\n",
              "      <td>R$ 3.595</td>\n",
              "    </tr>\n",
              "  </tbody>\n",
              "</table>\n",
              "</div>\n",
              "    <div class=\"colab-df-buttons\">\n",
              "\n",
              "  <div class=\"colab-df-container\">\n",
              "    <button class=\"colab-df-convert\" onclick=\"convertToInteractive('df-0e230114-b160-4830-9345-1f3700eb0bd7')\"\n",
              "            title=\"Convert this dataframe to an interactive table.\"\n",
              "            style=\"display:none;\">\n",
              "\n",
              "  <svg xmlns=\"http://www.w3.org/2000/svg\" height=\"24px\" viewBox=\"0 -960 960 960\">\n",
              "    <path d=\"M120-120v-720h720v720H120Zm60-500h600v-160H180v160Zm220 220h160v-160H400v160Zm0 220h160v-160H400v160ZM180-400h160v-160H180v160Zm440 0h160v-160H620v160ZM180-180h160v-160H180v160Zm440 0h160v-160H620v160Z\"/>\n",
              "  </svg>\n",
              "    </button>\n",
              "\n",
              "  <style>\n",
              "    .colab-df-container {\n",
              "      display:flex;\n",
              "      gap: 12px;\n",
              "    }\n",
              "\n",
              "    .colab-df-convert {\n",
              "      background-color: #E8F0FE;\n",
              "      border: none;\n",
              "      border-radius: 50%;\n",
              "      cursor: pointer;\n",
              "      display: none;\n",
              "      fill: #1967D2;\n",
              "      height: 32px;\n",
              "      padding: 0 0 0 0;\n",
              "      width: 32px;\n",
              "    }\n",
              "\n",
              "    .colab-df-convert:hover {\n",
              "      background-color: #E2EBFA;\n",
              "      box-shadow: 0px 1px 2px rgba(60, 64, 67, 0.3), 0px 1px 3px 1px rgba(60, 64, 67, 0.15);\n",
              "      fill: #174EA6;\n",
              "    }\n",
              "\n",
              "    .colab-df-buttons div {\n",
              "      margin-bottom: 4px;\n",
              "    }\n",
              "\n",
              "    [theme=dark] .colab-df-convert {\n",
              "      background-color: #3B4455;\n",
              "      fill: #D2E3FC;\n",
              "    }\n",
              "\n",
              "    [theme=dark] .colab-df-convert:hover {\n",
              "      background-color: #434B5C;\n",
              "      box-shadow: 0px 1px 3px 1px rgba(0, 0, 0, 0.15);\n",
              "      filter: drop-shadow(0px 1px 2px rgba(0, 0, 0, 0.3));\n",
              "      fill: #FFFFFF;\n",
              "    }\n",
              "  </style>\n",
              "\n",
              "    <script>\n",
              "      const buttonEl =\n",
              "        document.querySelector('#df-0e230114-b160-4830-9345-1f3700eb0bd7 button.colab-df-convert');\n",
              "      buttonEl.style.display =\n",
              "        google.colab.kernel.accessAllowed ? 'block' : 'none';\n",
              "\n",
              "      async function convertToInteractive(key) {\n",
              "        const element = document.querySelector('#df-0e230114-b160-4830-9345-1f3700eb0bd7');\n",
              "        const dataTable =\n",
              "          await google.colab.kernel.invokeFunction('convertToInteractive',\n",
              "                                                    [key], {});\n",
              "        if (!dataTable) return;\n",
              "\n",
              "        const docLinkHtml = 'Like what you see? Visit the ' +\n",
              "          '<a target=\"_blank\" href=https://colab.research.google.com/notebooks/data_table.ipynb>data table notebook</a>'\n",
              "          + ' to learn more about interactive tables.';\n",
              "        element.innerHTML = '';\n",
              "        dataTable['output_type'] = 'display_data';\n",
              "        await google.colab.output.renderOutput(dataTable, element);\n",
              "        const docLink = document.createElement('div');\n",
              "        docLink.innerHTML = docLinkHtml;\n",
              "        element.appendChild(docLink);\n",
              "      }\n",
              "    </script>\n",
              "  </div>\n",
              "\n",
              "\n",
              "<div id=\"df-09a503af-18ff-4660-8b58-6859002b8197\">\n",
              "  <button class=\"colab-df-quickchart\" onclick=\"quickchart('df-09a503af-18ff-4660-8b58-6859002b8197')\"\n",
              "            title=\"Suggest charts\"\n",
              "            style=\"display:none;\">\n",
              "\n",
              "<svg xmlns=\"http://www.w3.org/2000/svg\" height=\"24px\"viewBox=\"0 0 24 24\"\n",
              "     width=\"24px\">\n",
              "    <g>\n",
              "        <path d=\"M19 3H5c-1.1 0-2 .9-2 2v14c0 1.1.9 2 2 2h14c1.1 0 2-.9 2-2V5c0-1.1-.9-2-2-2zM9 17H7v-7h2v7zm4 0h-2V7h2v10zm4 0h-2v-4h2v4z\"/>\n",
              "    </g>\n",
              "</svg>\n",
              "  </button>\n",
              "\n",
              "<style>\n",
              "  .colab-df-quickchart {\n",
              "      --bg-color: #E8F0FE;\n",
              "      --fill-color: #1967D2;\n",
              "      --hover-bg-color: #E2EBFA;\n",
              "      --hover-fill-color: #174EA6;\n",
              "      --disabled-fill-color: #AAA;\n",
              "      --disabled-bg-color: #DDD;\n",
              "  }\n",
              "\n",
              "  [theme=dark] .colab-df-quickchart {\n",
              "      --bg-color: #3B4455;\n",
              "      --fill-color: #D2E3FC;\n",
              "      --hover-bg-color: #434B5C;\n",
              "      --hover-fill-color: #FFFFFF;\n",
              "      --disabled-bg-color: #3B4455;\n",
              "      --disabled-fill-color: #666;\n",
              "  }\n",
              "\n",
              "  .colab-df-quickchart {\n",
              "    background-color: var(--bg-color);\n",
              "    border: none;\n",
              "    border-radius: 50%;\n",
              "    cursor: pointer;\n",
              "    display: none;\n",
              "    fill: var(--fill-color);\n",
              "    height: 32px;\n",
              "    padding: 0;\n",
              "    width: 32px;\n",
              "  }\n",
              "\n",
              "  .colab-df-quickchart:hover {\n",
              "    background-color: var(--hover-bg-color);\n",
              "    box-shadow: 0 1px 2px rgba(60, 64, 67, 0.3), 0 1px 3px 1px rgba(60, 64, 67, 0.15);\n",
              "    fill: var(--button-hover-fill-color);\n",
              "  }\n",
              "\n",
              "  .colab-df-quickchart-complete:disabled,\n",
              "  .colab-df-quickchart-complete:disabled:hover {\n",
              "    background-color: var(--disabled-bg-color);\n",
              "    fill: var(--disabled-fill-color);\n",
              "    box-shadow: none;\n",
              "  }\n",
              "\n",
              "  .colab-df-spinner {\n",
              "    border: 2px solid var(--fill-color);\n",
              "    border-color: transparent;\n",
              "    border-bottom-color: var(--fill-color);\n",
              "    animation:\n",
              "      spin 1s steps(1) infinite;\n",
              "  }\n",
              "\n",
              "  @keyframes spin {\n",
              "    0% {\n",
              "      border-color: transparent;\n",
              "      border-bottom-color: var(--fill-color);\n",
              "      border-left-color: var(--fill-color);\n",
              "    }\n",
              "    20% {\n",
              "      border-color: transparent;\n",
              "      border-left-color: var(--fill-color);\n",
              "      border-top-color: var(--fill-color);\n",
              "    }\n",
              "    30% {\n",
              "      border-color: transparent;\n",
              "      border-left-color: var(--fill-color);\n",
              "      border-top-color: var(--fill-color);\n",
              "      border-right-color: var(--fill-color);\n",
              "    }\n",
              "    40% {\n",
              "      border-color: transparent;\n",
              "      border-right-color: var(--fill-color);\n",
              "      border-top-color: var(--fill-color);\n",
              "    }\n",
              "    60% {\n",
              "      border-color: transparent;\n",
              "      border-right-color: var(--fill-color);\n",
              "    }\n",
              "    80% {\n",
              "      border-color: transparent;\n",
              "      border-right-color: var(--fill-color);\n",
              "      border-bottom-color: var(--fill-color);\n",
              "    }\n",
              "    90% {\n",
              "      border-color: transparent;\n",
              "      border-bottom-color: var(--fill-color);\n",
              "    }\n",
              "  }\n",
              "</style>\n",
              "\n",
              "  <script>\n",
              "    async function quickchart(key) {\n",
              "      const quickchartButtonEl =\n",
              "        document.querySelector('#' + key + ' button');\n",
              "      quickchartButtonEl.disabled = true;  // To prevent multiple clicks.\n",
              "      quickchartButtonEl.classList.add('colab-df-spinner');\n",
              "      try {\n",
              "        const charts = await google.colab.kernel.invokeFunction(\n",
              "            'suggestCharts', [key], {});\n",
              "      } catch (error) {\n",
              "        console.error('Error during call to suggestCharts:', error);\n",
              "      }\n",
              "      quickchartButtonEl.classList.remove('colab-df-spinner');\n",
              "      quickchartButtonEl.classList.add('colab-df-quickchart-complete');\n",
              "    }\n",
              "    (() => {\n",
              "      let quickchartButtonEl =\n",
              "        document.querySelector('#df-09a503af-18ff-4660-8b58-6859002b8197 button');\n",
              "      quickchartButtonEl.style.display =\n",
              "        google.colab.kernel.accessAllowed ? 'block' : 'none';\n",
              "    })();\n",
              "  </script>\n",
              "</div>\n",
              "\n",
              "  <div id=\"id_ac8845ae-5cf1-4844-9f43-5ea595802c5f\">\n",
              "    <style>\n",
              "      .colab-df-generate {\n",
              "        background-color: #E8F0FE;\n",
              "        border: none;\n",
              "        border-radius: 50%;\n",
              "        cursor: pointer;\n",
              "        display: none;\n",
              "        fill: #1967D2;\n",
              "        height: 32px;\n",
              "        padding: 0 0 0 0;\n",
              "        width: 32px;\n",
              "      }\n",
              "\n",
              "      .colab-df-generate:hover {\n",
              "        background-color: #E2EBFA;\n",
              "        box-shadow: 0px 1px 2px rgba(60, 64, 67, 0.3), 0px 1px 3px 1px rgba(60, 64, 67, 0.15);\n",
              "        fill: #174EA6;\n",
              "      }\n",
              "\n",
              "      [theme=dark] .colab-df-generate {\n",
              "        background-color: #3B4455;\n",
              "        fill: #D2E3FC;\n",
              "      }\n",
              "\n",
              "      [theme=dark] .colab-df-generate:hover {\n",
              "        background-color: #434B5C;\n",
              "        box-shadow: 0px 1px 3px 1px rgba(0, 0, 0, 0.15);\n",
              "        filter: drop-shadow(0px 1px 2px rgba(0, 0, 0, 0.3));\n",
              "        fill: #FFFFFF;\n",
              "      }\n",
              "    </style>\n",
              "    <button class=\"colab-df-generate\" onclick=\"generateWithVariable('df')\"\n",
              "            title=\"Generate code using this dataframe.\"\n",
              "            style=\"display:none;\">\n",
              "\n",
              "  <svg xmlns=\"http://www.w3.org/2000/svg\" height=\"24px\"viewBox=\"0 0 24 24\"\n",
              "       width=\"24px\">\n",
              "    <path d=\"M7,19H8.4L18.45,9,17,7.55,7,17.6ZM5,21V16.75L18.45,3.32a2,2,0,0,1,2.83,0l1.4,1.43a1.91,1.91,0,0,1,.58,1.4,1.91,1.91,0,0,1-.58,1.4L9.25,21ZM18.45,9,17,7.55Zm-12,3A5.31,5.31,0,0,0,4.9,8.1,5.31,5.31,0,0,0,1,6.5,5.31,5.31,0,0,0,4.9,4.9,5.31,5.31,0,0,0,6.5,1,5.31,5.31,0,0,0,8.1,4.9,5.31,5.31,0,0,0,12,6.5,5.46,5.46,0,0,0,6.5,12Z\"/>\n",
              "  </svg>\n",
              "    </button>\n",
              "    <script>\n",
              "      (() => {\n",
              "      const buttonEl =\n",
              "        document.querySelector('#id_ac8845ae-5cf1-4844-9f43-5ea595802c5f button.colab-df-generate');\n",
              "      buttonEl.style.display =\n",
              "        google.colab.kernel.accessAllowed ? 'block' : 'none';\n",
              "\n",
              "      buttonEl.onclick = () => {\n",
              "        google.colab.notebook.generateWithVariable('df');\n",
              "      }\n",
              "      })();\n",
              "    </script>\n",
              "  </div>\n",
              "\n",
              "    </div>\n",
              "  </div>\n"
            ],
            "application/vnd.google.colaboratory.intrinsic+json": {
              "type": "dataframe",
              "variable_name": "df",
              "repr_error": "0"
            }
          },
          "metadata": {},
          "execution_count": 19
        }
      ]
    },
    {
      "cell_type": "markdown",
      "source": [
        "Detalha em texto o valor do menor preço e a companhia aérea que realiza o trajeto"
      ],
      "metadata": {
        "id": "XrUsDWQuxe6k"
      }
    },
    {
      "cell_type": "code",
      "source": [
        "df2 = df.copy()\n",
        "df2[\"valor_monetario\"] = df['preco'].str.replace(',', '.', regex=False).str.extract('(\\d+\\.?\\d*)').astype(float)\n",
        "index_min=df2[\"valor_monetario\"].idxmin()\n",
        "\n",
        "valor_minimo = df.loc[index_min,\"preco\"] #Encontra o menor valor da passagem:\n",
        "\n",
        "display(Markdown(\"<b>Menor Valor da Passagem: </b>\"))\n",
        "print(valor_minimo)\n",
        "\n",
        "if retorno==1:\n",
        "  display(Markdown(\"<b>Disponível pela companhia: </b>\"))\n",
        "  Companhia_aerea = df.loc[index_min,\"companhia_aerea\"] # Retorna a companhia com o menor valor\n",
        "  print(Companhia_aerea)\n",
        "elif retorno==2:\n",
        "  companhia_aerea_ida = df.loc[index_min,\"companhia_aerea_ida\"] # Retorna a companhia  de ida para o menor valor total\n",
        "  companhia_aerea_retorno = df.loc[index_min,\"companhia_aerea\"] # Retorna a companhia de volta para o menor valor total\n",
        "  display(Markdown(\"<b>Ida disponível pela companhia: </b>\"))\n",
        "  print(companhia_aerea_ida)\n",
        "  display(Markdown(\"<b>Retorno disponível pela companhia: </b>\"))\n",
        "  print(companhia_aerea_retorno)"
      ],
      "metadata": {
        "id": "0Nkwk-ckNGsS",
        "colab": {
          "base_uri": "https://localhost:8080/",
          "height": 157
        },
        "outputId": "b876cfc6-57b8-4c53-a7fa-4d40b6f4b1b8"
      },
      "execution_count": 15,
      "outputs": [
        {
          "output_type": "display_data",
          "data": {
            "text/plain": [
              "<IPython.core.display.Markdown object>"
            ],
            "text/markdown": "<b>Menor Valor da Passagem: </b>"
          },
          "metadata": {}
        },
        {
          "output_type": "stream",
          "name": "stdout",
          "text": [
            "R$ 3.245\n"
          ]
        },
        {
          "output_type": "display_data",
          "data": {
            "text/plain": [
              "<IPython.core.display.Markdown object>"
            ],
            "text/markdown": "<b>Ida disponível pela companhia: </b>"
          },
          "metadata": {}
        },
        {
          "output_type": "stream",
          "name": "stdout",
          "text": [
            "Lufthansa\n"
          ]
        },
        {
          "output_type": "display_data",
          "data": {
            "text/plain": [
              "<IPython.core.display.Markdown object>"
            ],
            "text/markdown": "<b>Retorno disponível pela companhia: </b>"
          },
          "metadata": {}
        },
        {
          "output_type": "stream",
          "name": "stdout",
          "text": [
            "Lufthansa\n"
          ]
        }
      ]
    },
    {
      "cell_type": "markdown",
      "source": [
        "O Nosso Projeto passa então com base nos dados inseridos a sugerir eventos culturais para o usuário"
      ],
      "metadata": {
        "id": "hq4qsce4xobZ"
      }
    },
    {
      "cell_type": "code",
      "source": [
        "#Exibe o título\n",
        "texto_formatado2 = f\"<h1><b>Enquanto estiver em {destino} seguem algumas sugestões: </b></h1>\"\n",
        "display(Markdown(texto_formatado2))\n",
        "print(\"\\n\")\n",
        "prompt = f\"imagine que você é um entusiasta por atividades culturais, descreva em tópicos algumas atividades e locais históricos a serem visitados em {destino}, não esqueça de sugerir pratos típicos. Não separe por dias (pode ser que não coincida com os planos do cliente)\"\n",
        "\n",
        "response2 = chat.send_message(str(prompt))\n",
        "\n",
        "display(Markdown(response2.text))\n",
        "\n",
        "\n"
      ],
      "metadata": {
        "id": "I8tu3Gcqfwl5",
        "colab": {
          "base_uri": "https://localhost:8080/",
          "height": 400
        },
        "outputId": "57f197b9-5520-48a5-f630-2f62aab7b81e"
      },
      "execution_count": 18,
      "outputs": [
        {
          "output_type": "display_data",
          "data": {
            "text/plain": [
              "<IPython.core.display.Markdown object>"
            ],
            "text/markdown": "<h1><b>Enquanto estiver em Lisboa seguem algumas sugestões: </b></h1>"
          },
          "metadata": {}
        },
        {
          "output_type": "stream",
          "name": "stdout",
          "text": [
            "\n",
            "\n"
          ]
        },
        {
          "output_type": "display_data",
          "data": {
            "text/plain": [
              "<IPython.core.display.Markdown object>"
            ],
            "text/markdown": "**Locais e Atividades Históricas em Lisboa:**\n\n* **Castelo de São Jorge:** Explore as ruínas do castelo mourisco e desfrute de vistas panorâmicas da cidade a partir das muralhas medievais.\n* **Sé de Lisboa (Catedral):** Visite a catedral mais antiga de Lisboa, datada do século XII, e admire sua arquitetura românica e gótica.\n* **Mosteiro dos Jerónimos:** Maravilhe-se com a arquitetura manuelina deste Patrimônio Mundial da UNESCO e visite o túmulo de Vasco da Gama.\n* **Torre de Belém:** Explore esta torre fortificada do século XVI, um símbolo da era dos descobrimentos portugueses.\n* **Elevador de Santa Justa:** Suba neste elevador histórico para vistas deslumbrantes do centro da cidade de Lisboa.\n* **Elétrico 28:** Faça um passeio no icônico elétrico 28, que percorre as ruas históricas e charmosas de Lisboa.\n* **Museu Nacional dos Coches:** Admire uma coleção de carruagens reais e históricas, incluindo o famoso Coche de Ouro.\n\n**Pratos Típicos para Experimentar:**\n\n* **Bacalhau à Gomes de Sá:** Bacalhau salgado assado com batatas, cebolas, azeitonas e ovos.\n* **Sardinhas Assadas:** Sardinhas grelhadas servidas com batatas cozidas e salada.\n* **Pastéis de Bacalhau:** Bolinhos fritos recheados com bacalhau, cebola e salsa.\n* **Arroz de Marisco:** Arroz cozido com uma variedade de frutos do mar, como camarão, mexilhões e lulas.\n* **Cozido à Portuguesa:** Ensopado tradicional feito com vários tipos de carne, enchidos e vegetais.\n* **Queijadas de Sintra:** Doces de queijo cremosos polvilhados com canela e açúcar."
          },
          "metadata": {}
        }
      ]
    }
  ]
}